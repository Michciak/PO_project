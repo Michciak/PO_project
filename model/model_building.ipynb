{
 "cells": [
  {
   "cell_type": "code",
   "execution_count": 38,
   "id": "initial_id",
   "metadata": {
    "collapsed": true,
    "ExecuteTime": {
     "end_time": "2024-04-13T21:36:58.915172300Z",
     "start_time": "2024-04-13T21:36:58.785961300Z"
    }
   },
   "outputs": [],
   "source": [
    "import pandas as pd \n",
    "# import numpy as np\n",
    "from sklearn.impute import SimpleImputer\n",
    "from sklearn.model_selection import train_test_split\n",
    "from sklearn.pipeline import Pipeline, make_pipeline\n",
    "from sklearn.compose import ColumnTransformer \n",
    "from sklearn.preprocessing import OneHotEncoder\n",
    "\n",
    "# from sklearn.preprocessing import "
   ]
  },
  {
   "cell_type": "markdown",
   "source": [
    "## DATA PREPARATION"
   ],
   "metadata": {
    "collapsed": false
   },
   "id": "8e565a46a20a457e"
  },
  {
   "cell_type": "code",
   "outputs": [
    {
     "data": {
      "text/plain": "         brand                            model  model_year      milage  \\\n0         Ford  Utility Police Interceptor Base        2013  51,000 mi.   \n1      Hyundai                     Palisade SEL        2021  34,742 mi.   \n2        Lexus                    RX 350 RX 350        2022  22,372 mi.   \n3     INFINITI                 Q50 Hybrid Sport        2015  88,900 mi.   \n4         Audi        Q3 45 S line Premium Plus        2021   9,835 mi.   \n...        ...                              ...         ...         ...   \n4004   Bentley             Continental GT Speed        2023     714 mi.   \n4005      Audi             S4 3.0T Premium Plus        2022  10,900 mi.   \n4006   Porsche                           Taycan        2022   2,116 mi.   \n4007      Ford                     F-150 Raptor        2020  33,000 mi.   \n4008       BMW                     X3 xDrive30i        2020  43,000 mi.   \n\n          fuel_type                                             engine  \\\n0     E85 Flex Fuel  300.0HP 3.7L V6 Cylinder Engine Flex Fuel Capa...   \n1          Gasoline                               3.8L V6 24V GDI DOHC   \n2          Gasoline                                     3.5 Liter DOHC   \n3            Hybrid  354.0HP 3.5L V6 Cylinder Engine Gas/Electric H...   \n4          Gasoline                         2.0L I4 16V GDI DOHC Turbo   \n...             ...                                                ...   \n4004       Gasoline                   6.0L W12 48V PDI DOHC Twin Turbo   \n4005       Gasoline      349.0HP 3.0L V6 Cylinder Engine Gasoline Fuel   \n4006            NaN                                           Electric   \n4007       Gasoline      450.0HP 3.5L V6 Cylinder Engine Gasoline Fuel   \n4008       Gasoline       248.0HP 2.0L 4 Cylinder Engine Gasoline Fuel   \n\n                           transmission                 ext_col  int_col  \\\n0                           6-Speed A/T                   Black    Black   \n1                     8-Speed Automatic         Moonlight Cloud     Gray   \n2                             Automatic                    Blue    Black   \n3                           7-Speed A/T                   Black    Black   \n4                     8-Speed Automatic  Glacier White Metallic    Black   \n...                                 ...                     ...      ...   \n4004  8-Speed Automatic with Auto-Shift                   C / C  Hotspur   \n4005     Transmission w/Dual Shift Mode                   Black    Black   \n4006                          Automatic                   Black    Black   \n4007                                A/T                    Blue    Black   \n4008                                A/T                    Gray    Brown   \n\n                                    accident clean_title     price  \n0     At least 1 accident or damage reported         Yes   $10,300  \n1     At least 1 accident or damage reported         Yes   $38,005  \n2                              None reported         NaN   $54,598  \n3                              None reported         Yes   $15,500  \n4                              None reported         NaN   $34,999  \n...                                      ...         ...       ...  \n4004                           None reported         Yes  $349,950  \n4005                           None reported         Yes   $53,900  \n4006                           None reported         NaN   $90,998  \n4007                           None reported         Yes   $62,999  \n4008  At least 1 accident or damage reported         Yes   $40,000  \n\n[4009 rows x 12 columns]",
      "text/html": "<div>\n<style scoped>\n    .dataframe tbody tr th:only-of-type {\n        vertical-align: middle;\n    }\n\n    .dataframe tbody tr th {\n        vertical-align: top;\n    }\n\n    .dataframe thead th {\n        text-align: right;\n    }\n</style>\n<table border=\"1\" class=\"dataframe\">\n  <thead>\n    <tr style=\"text-align: right;\">\n      <th></th>\n      <th>brand</th>\n      <th>model</th>\n      <th>model_year</th>\n      <th>milage</th>\n      <th>fuel_type</th>\n      <th>engine</th>\n      <th>transmission</th>\n      <th>ext_col</th>\n      <th>int_col</th>\n      <th>accident</th>\n      <th>clean_title</th>\n      <th>price</th>\n    </tr>\n  </thead>\n  <tbody>\n    <tr>\n      <th>0</th>\n      <td>Ford</td>\n      <td>Utility Police Interceptor Base</td>\n      <td>2013</td>\n      <td>51,000 mi.</td>\n      <td>E85 Flex Fuel</td>\n      <td>300.0HP 3.7L V6 Cylinder Engine Flex Fuel Capa...</td>\n      <td>6-Speed A/T</td>\n      <td>Black</td>\n      <td>Black</td>\n      <td>At least 1 accident or damage reported</td>\n      <td>Yes</td>\n      <td>$10,300</td>\n    </tr>\n    <tr>\n      <th>1</th>\n      <td>Hyundai</td>\n      <td>Palisade SEL</td>\n      <td>2021</td>\n      <td>34,742 mi.</td>\n      <td>Gasoline</td>\n      <td>3.8L V6 24V GDI DOHC</td>\n      <td>8-Speed Automatic</td>\n      <td>Moonlight Cloud</td>\n      <td>Gray</td>\n      <td>At least 1 accident or damage reported</td>\n      <td>Yes</td>\n      <td>$38,005</td>\n    </tr>\n    <tr>\n      <th>2</th>\n      <td>Lexus</td>\n      <td>RX 350 RX 350</td>\n      <td>2022</td>\n      <td>22,372 mi.</td>\n      <td>Gasoline</td>\n      <td>3.5 Liter DOHC</td>\n      <td>Automatic</td>\n      <td>Blue</td>\n      <td>Black</td>\n      <td>None reported</td>\n      <td>NaN</td>\n      <td>$54,598</td>\n    </tr>\n    <tr>\n      <th>3</th>\n      <td>INFINITI</td>\n      <td>Q50 Hybrid Sport</td>\n      <td>2015</td>\n      <td>88,900 mi.</td>\n      <td>Hybrid</td>\n      <td>354.0HP 3.5L V6 Cylinder Engine Gas/Electric H...</td>\n      <td>7-Speed A/T</td>\n      <td>Black</td>\n      <td>Black</td>\n      <td>None reported</td>\n      <td>Yes</td>\n      <td>$15,500</td>\n    </tr>\n    <tr>\n      <th>4</th>\n      <td>Audi</td>\n      <td>Q3 45 S line Premium Plus</td>\n      <td>2021</td>\n      <td>9,835 mi.</td>\n      <td>Gasoline</td>\n      <td>2.0L I4 16V GDI DOHC Turbo</td>\n      <td>8-Speed Automatic</td>\n      <td>Glacier White Metallic</td>\n      <td>Black</td>\n      <td>None reported</td>\n      <td>NaN</td>\n      <td>$34,999</td>\n    </tr>\n    <tr>\n      <th>...</th>\n      <td>...</td>\n      <td>...</td>\n      <td>...</td>\n      <td>...</td>\n      <td>...</td>\n      <td>...</td>\n      <td>...</td>\n      <td>...</td>\n      <td>...</td>\n      <td>...</td>\n      <td>...</td>\n      <td>...</td>\n    </tr>\n    <tr>\n      <th>4004</th>\n      <td>Bentley</td>\n      <td>Continental GT Speed</td>\n      <td>2023</td>\n      <td>714 mi.</td>\n      <td>Gasoline</td>\n      <td>6.0L W12 48V PDI DOHC Twin Turbo</td>\n      <td>8-Speed Automatic with Auto-Shift</td>\n      <td>C / C</td>\n      <td>Hotspur</td>\n      <td>None reported</td>\n      <td>Yes</td>\n      <td>$349,950</td>\n    </tr>\n    <tr>\n      <th>4005</th>\n      <td>Audi</td>\n      <td>S4 3.0T Premium Plus</td>\n      <td>2022</td>\n      <td>10,900 mi.</td>\n      <td>Gasoline</td>\n      <td>349.0HP 3.0L V6 Cylinder Engine Gasoline Fuel</td>\n      <td>Transmission w/Dual Shift Mode</td>\n      <td>Black</td>\n      <td>Black</td>\n      <td>None reported</td>\n      <td>Yes</td>\n      <td>$53,900</td>\n    </tr>\n    <tr>\n      <th>4006</th>\n      <td>Porsche</td>\n      <td>Taycan</td>\n      <td>2022</td>\n      <td>2,116 mi.</td>\n      <td>NaN</td>\n      <td>Electric</td>\n      <td>Automatic</td>\n      <td>Black</td>\n      <td>Black</td>\n      <td>None reported</td>\n      <td>NaN</td>\n      <td>$90,998</td>\n    </tr>\n    <tr>\n      <th>4007</th>\n      <td>Ford</td>\n      <td>F-150 Raptor</td>\n      <td>2020</td>\n      <td>33,000 mi.</td>\n      <td>Gasoline</td>\n      <td>450.0HP 3.5L V6 Cylinder Engine Gasoline Fuel</td>\n      <td>A/T</td>\n      <td>Blue</td>\n      <td>Black</td>\n      <td>None reported</td>\n      <td>Yes</td>\n      <td>$62,999</td>\n    </tr>\n    <tr>\n      <th>4008</th>\n      <td>BMW</td>\n      <td>X3 xDrive30i</td>\n      <td>2020</td>\n      <td>43,000 mi.</td>\n      <td>Gasoline</td>\n      <td>248.0HP 2.0L 4 Cylinder Engine Gasoline Fuel</td>\n      <td>A/T</td>\n      <td>Gray</td>\n      <td>Brown</td>\n      <td>At least 1 accident or damage reported</td>\n      <td>Yes</td>\n      <td>$40,000</td>\n    </tr>\n  </tbody>\n</table>\n<p>4009 rows × 12 columns</p>\n</div>"
     },
     "execution_count": 39,
     "metadata": {},
     "output_type": "execute_result"
    }
   ],
   "source": [
    "used_cars_data = pd.read_csv(\"data/used_cars.csv\")\n",
    "used_cars_data"
   ],
   "metadata": {
    "collapsed": false,
    "ExecuteTime": {
     "end_time": "2024-04-13T21:36:58.990180600Z",
     "start_time": "2024-04-13T21:36:58.908172400Z"
    }
   },
   "id": "2409533704f2405c",
   "execution_count": 39
  },
  {
   "cell_type": "code",
   "outputs": [
    {
     "name": "stdout",
     "output_type": "stream",
     "text": [
      "<class 'pandas.core.frame.DataFrame'>\n",
      "RangeIndex: 4009 entries, 0 to 4008\n",
      "Data columns (total 12 columns):\n",
      " #   Column        Non-Null Count  Dtype \n",
      "---  ------        --------------  ----- \n",
      " 0   brand         4009 non-null   object\n",
      " 1   model         4009 non-null   object\n",
      " 2   model_year    4009 non-null   int64 \n",
      " 3   milage        4009 non-null   object\n",
      " 4   fuel_type     3839 non-null   object\n",
      " 5   engine        4009 non-null   object\n",
      " 6   transmission  4009 non-null   object\n",
      " 7   ext_col       4009 non-null   object\n",
      " 8   int_col       4009 non-null   object\n",
      " 9   accident      3896 non-null   object\n",
      " 10  clean_title   3413 non-null   object\n",
      " 11  price         4009 non-null   object\n",
      "dtypes: int64(1), object(11)\n",
      "memory usage: 376.0+ KB\n"
     ]
    }
   ],
   "source": [
    "used_cars_data.info()"
   ],
   "metadata": {
    "collapsed": false,
    "ExecuteTime": {
     "end_time": "2024-04-13T21:36:59.005191400Z",
     "start_time": "2024-04-13T21:36:58.951179900Z"
    }
   },
   "id": "508b76f50b400e3c",
   "execution_count": 40
  },
  {
   "cell_type": "code",
   "outputs": [],
   "source": [
    "dataset = pd.DataFrame.copy(used_cars_data)"
   ],
   "metadata": {
    "collapsed": false,
    "ExecuteTime": {
     "end_time": "2024-04-13T21:36:59.019342700Z",
     "start_time": "2024-04-13T21:36:58.981173300Z"
    }
   },
   "id": "210a98a6bab18f9c",
   "execution_count": 41
  },
  {
   "cell_type": "code",
   "outputs": [],
   "source": [
    "dataset['brand'] = used_cars_data['brand'].astype('category')"
   ],
   "metadata": {
    "collapsed": false,
    "ExecuteTime": {
     "end_time": "2024-04-13T21:36:59.087221800Z",
     "start_time": "2024-04-13T21:36:59.011215Z"
    }
   },
   "id": "8cc3715e9f35dfe3",
   "execution_count": 42
  },
  {
   "cell_type": "code",
   "outputs": [],
   "source": [
    "dataset['model'] = used_cars_data['model'].astype('category')"
   ],
   "metadata": {
    "collapsed": false,
    "ExecuteTime": {
     "end_time": "2024-04-13T21:36:59.164761500Z",
     "start_time": "2024-04-13T21:36:59.077245700Z"
    }
   },
   "id": "2af0b1f389788824",
   "execution_count": 43
  },
  {
   "cell_type": "code",
   "outputs": [],
   "source": [
    "dataset['model_year'] = used_cars_data['model_year'].astype(int)"
   ],
   "metadata": {
    "collapsed": false,
    "ExecuteTime": {
     "end_time": "2024-04-13T21:36:59.197772Z",
     "start_time": "2024-04-13T21:36:59.127761500Z"
    }
   },
   "id": "4d69731900bb29d5",
   "execution_count": 44
  },
  {
   "cell_type": "code",
   "outputs": [],
   "source": [
    "dataset['milage'] = used_cars_data['milage'].str.slice(0,-4).str.replace(',','').astype(int)"
   ],
   "metadata": {
    "collapsed": false,
    "ExecuteTime": {
     "end_time": "2024-04-13T21:36:59.269289700Z",
     "start_time": "2024-04-13T21:36:59.203772400Z"
    }
   },
   "id": "cd4a6aa126dea51c",
   "execution_count": 45
  },
  {
   "cell_type": "code",
   "outputs": [],
   "source": [
    "dataset['engine'] = used_cars_data['engine'].astype('category')"
   ],
   "metadata": {
    "collapsed": false,
    "ExecuteTime": {
     "end_time": "2024-04-13T21:36:59.272288500Z",
     "start_time": "2024-04-13T21:36:59.221292900Z"
    }
   },
   "id": "7b482b17a68d8a74",
   "execution_count": 46
  },
  {
   "cell_type": "code",
   "outputs": [],
   "source": [
    "dataset['transmission'] = used_cars_data['transmission'].astype('category')"
   ],
   "metadata": {
    "collapsed": false,
    "ExecuteTime": {
     "end_time": "2024-04-13T21:36:59.290289300Z",
     "start_time": "2024-04-13T21:36:59.277288500Z"
    }
   },
   "id": "5661ac3227d25178",
   "execution_count": 47
  },
  {
   "cell_type": "code",
   "outputs": [],
   "source": [
    "imputer = SimpleImputer(strategy='most_frequent')\n",
    "imputed_df = imputer.fit_transform(dataset[['brand','model','model_year','fuel_type','engine','transmission']])\n",
    "df_imputed = pd.DataFrame(imputed_df, columns=['brand','model','model_year','fuel_type','engine','transmission'])\n",
    "dataset['fuel_type'] = df_imputed['fuel_type'].astype('category')"
   ],
   "metadata": {
    "collapsed": false,
    "ExecuteTime": {
     "end_time": "2024-04-13T21:36:59.346808500Z",
     "start_time": "2024-04-13T21:36:59.294294Z"
    }
   },
   "id": "20390038c6029aa2",
   "execution_count": 48
  },
  {
   "cell_type": "code",
   "outputs": [],
   "source": [
    "dataset['accident'] = used_cars_data['accident'].replace({'At least 1 accident or damage reported': 'Reported', 'None reported': 'None'}).astype('category')\n",
    "dataset['accident'] = dataset['accident'].cat.add_categories('Unknown')\n",
    "dataset['accident'] = dataset['accident'].fillna('Unknown')"
   ],
   "metadata": {
    "collapsed": false,
    "ExecuteTime": {
     "end_time": "2024-04-13T21:36:59.348809200Z",
     "start_time": "2024-04-13T21:36:59.319809100Z"
    }
   },
   "id": "4f11598eae8195b4",
   "execution_count": 49
  },
  {
   "cell_type": "code",
   "outputs": [],
   "source": [
    "dataset = dataset.drop(['ext_col','int_col'], axis = 1)"
   ],
   "metadata": {
    "collapsed": false,
    "ExecuteTime": {
     "end_time": "2024-04-13T21:36:59.389810500Z",
     "start_time": "2024-04-13T21:36:59.349810800Z"
    }
   },
   "id": "503a07136c087bc",
   "execution_count": 50
  },
  {
   "cell_type": "code",
   "outputs": [],
   "source": [
    "dataset['clean_title'] = used_cars_data['clean_title'].astype('category')\n",
    "dataset['clean_title'] = dataset['clean_title'].cat.add_categories('Unknown')\n",
    "dataset['clean_title'] = dataset['clean_title'].fillna('Unknown')"
   ],
   "metadata": {
    "collapsed": false,
    "ExecuteTime": {
     "end_time": "2024-04-13T21:36:59.429330600Z",
     "start_time": "2024-04-13T21:36:59.380813500Z"
    }
   },
   "id": "53cbb0bc70f772c8",
   "execution_count": 51
  },
  {
   "cell_type": "code",
   "outputs": [],
   "source": [
    "dataset['price'] = used_cars_data['price'].str.replace('[\\\\$,]','', regex=True).astype('int')"
   ],
   "metadata": {
    "collapsed": false,
    "ExecuteTime": {
     "end_time": "2024-04-13T21:36:59.480330400Z",
     "start_time": "2024-04-13T21:36:59.418333100Z"
    }
   },
   "id": "7d9005df0de7881e",
   "execution_count": 52
  },
  {
   "cell_type": "code",
   "outputs": [
    {
     "data": {
      "text/plain": "         brand                            model  model_year  milage  \\\n0         Ford  Utility Police Interceptor Base        2013   51000   \n1      Hyundai                     Palisade SEL        2021   34742   \n2        Lexus                    RX 350 RX 350        2022   22372   \n3     INFINITI                 Q50 Hybrid Sport        2015   88900   \n4         Audi        Q3 45 S line Premium Plus        2021    9835   \n...        ...                              ...         ...     ...   \n4004   Bentley             Continental GT Speed        2023     714   \n4005      Audi             S4 3.0T Premium Plus        2022   10900   \n4006   Porsche                           Taycan        2022    2116   \n4007      Ford                     F-150 Raptor        2020   33000   \n4008       BMW                     X3 xDrive30i        2020   43000   \n\n          fuel_type                                             engine  \\\n0     E85 Flex Fuel  300.0HP 3.7L V6 Cylinder Engine Flex Fuel Capa...   \n1          Gasoline                               3.8L V6 24V GDI DOHC   \n2          Gasoline                                     3.5 Liter DOHC   \n3            Hybrid  354.0HP 3.5L V6 Cylinder Engine Gas/Electric H...   \n4          Gasoline                         2.0L I4 16V GDI DOHC Turbo   \n...             ...                                                ...   \n4004       Gasoline                   6.0L W12 48V PDI DOHC Twin Turbo   \n4005       Gasoline      349.0HP 3.0L V6 Cylinder Engine Gasoline Fuel   \n4006       Gasoline                                           Electric   \n4007       Gasoline      450.0HP 3.5L V6 Cylinder Engine Gasoline Fuel   \n4008       Gasoline       248.0HP 2.0L 4 Cylinder Engine Gasoline Fuel   \n\n                           transmission  accident clean_title   price  \n0                           6-Speed A/T  Reported         Yes   10300  \n1                     8-Speed Automatic  Reported         Yes   38005  \n2                             Automatic      None     Unknown   54598  \n3                           7-Speed A/T      None         Yes   15500  \n4                     8-Speed Automatic      None     Unknown   34999  \n...                                 ...       ...         ...     ...  \n4004  8-Speed Automatic with Auto-Shift      None         Yes  349950  \n4005     Transmission w/Dual Shift Mode      None         Yes   53900  \n4006                          Automatic      None     Unknown   90998  \n4007                                A/T      None         Yes   62999  \n4008                                A/T  Reported         Yes   40000  \n\n[4009 rows x 10 columns]",
      "text/html": "<div>\n<style scoped>\n    .dataframe tbody tr th:only-of-type {\n        vertical-align: middle;\n    }\n\n    .dataframe tbody tr th {\n        vertical-align: top;\n    }\n\n    .dataframe thead th {\n        text-align: right;\n    }\n</style>\n<table border=\"1\" class=\"dataframe\">\n  <thead>\n    <tr style=\"text-align: right;\">\n      <th></th>\n      <th>brand</th>\n      <th>model</th>\n      <th>model_year</th>\n      <th>milage</th>\n      <th>fuel_type</th>\n      <th>engine</th>\n      <th>transmission</th>\n      <th>accident</th>\n      <th>clean_title</th>\n      <th>price</th>\n    </tr>\n  </thead>\n  <tbody>\n    <tr>\n      <th>0</th>\n      <td>Ford</td>\n      <td>Utility Police Interceptor Base</td>\n      <td>2013</td>\n      <td>51000</td>\n      <td>E85 Flex Fuel</td>\n      <td>300.0HP 3.7L V6 Cylinder Engine Flex Fuel Capa...</td>\n      <td>6-Speed A/T</td>\n      <td>Reported</td>\n      <td>Yes</td>\n      <td>10300</td>\n    </tr>\n    <tr>\n      <th>1</th>\n      <td>Hyundai</td>\n      <td>Palisade SEL</td>\n      <td>2021</td>\n      <td>34742</td>\n      <td>Gasoline</td>\n      <td>3.8L V6 24V GDI DOHC</td>\n      <td>8-Speed Automatic</td>\n      <td>Reported</td>\n      <td>Yes</td>\n      <td>38005</td>\n    </tr>\n    <tr>\n      <th>2</th>\n      <td>Lexus</td>\n      <td>RX 350 RX 350</td>\n      <td>2022</td>\n      <td>22372</td>\n      <td>Gasoline</td>\n      <td>3.5 Liter DOHC</td>\n      <td>Automatic</td>\n      <td>None</td>\n      <td>Unknown</td>\n      <td>54598</td>\n    </tr>\n    <tr>\n      <th>3</th>\n      <td>INFINITI</td>\n      <td>Q50 Hybrid Sport</td>\n      <td>2015</td>\n      <td>88900</td>\n      <td>Hybrid</td>\n      <td>354.0HP 3.5L V6 Cylinder Engine Gas/Electric H...</td>\n      <td>7-Speed A/T</td>\n      <td>None</td>\n      <td>Yes</td>\n      <td>15500</td>\n    </tr>\n    <tr>\n      <th>4</th>\n      <td>Audi</td>\n      <td>Q3 45 S line Premium Plus</td>\n      <td>2021</td>\n      <td>9835</td>\n      <td>Gasoline</td>\n      <td>2.0L I4 16V GDI DOHC Turbo</td>\n      <td>8-Speed Automatic</td>\n      <td>None</td>\n      <td>Unknown</td>\n      <td>34999</td>\n    </tr>\n    <tr>\n      <th>...</th>\n      <td>...</td>\n      <td>...</td>\n      <td>...</td>\n      <td>...</td>\n      <td>...</td>\n      <td>...</td>\n      <td>...</td>\n      <td>...</td>\n      <td>...</td>\n      <td>...</td>\n    </tr>\n    <tr>\n      <th>4004</th>\n      <td>Bentley</td>\n      <td>Continental GT Speed</td>\n      <td>2023</td>\n      <td>714</td>\n      <td>Gasoline</td>\n      <td>6.0L W12 48V PDI DOHC Twin Turbo</td>\n      <td>8-Speed Automatic with Auto-Shift</td>\n      <td>None</td>\n      <td>Yes</td>\n      <td>349950</td>\n    </tr>\n    <tr>\n      <th>4005</th>\n      <td>Audi</td>\n      <td>S4 3.0T Premium Plus</td>\n      <td>2022</td>\n      <td>10900</td>\n      <td>Gasoline</td>\n      <td>349.0HP 3.0L V6 Cylinder Engine Gasoline Fuel</td>\n      <td>Transmission w/Dual Shift Mode</td>\n      <td>None</td>\n      <td>Yes</td>\n      <td>53900</td>\n    </tr>\n    <tr>\n      <th>4006</th>\n      <td>Porsche</td>\n      <td>Taycan</td>\n      <td>2022</td>\n      <td>2116</td>\n      <td>Gasoline</td>\n      <td>Electric</td>\n      <td>Automatic</td>\n      <td>None</td>\n      <td>Unknown</td>\n      <td>90998</td>\n    </tr>\n    <tr>\n      <th>4007</th>\n      <td>Ford</td>\n      <td>F-150 Raptor</td>\n      <td>2020</td>\n      <td>33000</td>\n      <td>Gasoline</td>\n      <td>450.0HP 3.5L V6 Cylinder Engine Gasoline Fuel</td>\n      <td>A/T</td>\n      <td>None</td>\n      <td>Yes</td>\n      <td>62999</td>\n    </tr>\n    <tr>\n      <th>4008</th>\n      <td>BMW</td>\n      <td>X3 xDrive30i</td>\n      <td>2020</td>\n      <td>43000</td>\n      <td>Gasoline</td>\n      <td>248.0HP 2.0L 4 Cylinder Engine Gasoline Fuel</td>\n      <td>A/T</td>\n      <td>Reported</td>\n      <td>Yes</td>\n      <td>40000</td>\n    </tr>\n  </tbody>\n</table>\n<p>4009 rows × 10 columns</p>\n</div>"
     },
     "execution_count": 53,
     "metadata": {},
     "output_type": "execute_result"
    }
   ],
   "source": [
    "dataset"
   ],
   "metadata": {
    "collapsed": false,
    "ExecuteTime": {
     "end_time": "2024-04-13T21:36:59.509627100Z",
     "start_time": "2024-04-13T21:36:59.443331200Z"
    }
   },
   "id": "f77fad8697d8ecfe",
   "execution_count": 53
  },
  {
   "cell_type": "code",
   "outputs": [
    {
     "name": "stdout",
     "output_type": "stream",
     "text": [
      "<class 'pandas.core.frame.DataFrame'>\n",
      "RangeIndex: 4009 entries, 0 to 4008\n",
      "Data columns (total 10 columns):\n",
      " #   Column        Non-Null Count  Dtype   \n",
      "---  ------        --------------  -----   \n",
      " 0   brand         4009 non-null   category\n",
      " 1   model         4009 non-null   category\n",
      " 2   model_year    4009 non-null   int32   \n",
      " 3   milage        4009 non-null   int32   \n",
      " 4   fuel_type     4009 non-null   category\n",
      " 5   engine        4009 non-null   category\n",
      " 6   transmission  4009 non-null   category\n",
      " 7   accident      4009 non-null   category\n",
      " 8   clean_title   4009 non-null   category\n",
      " 9   price         4009 non-null   int32   \n",
      "dtypes: category(7), int32(3)\n",
      "memory usage: 208.6 KB\n"
     ]
    }
   ],
   "source": [
    "dataset.info()"
   ],
   "metadata": {
    "collapsed": false,
    "ExecuteTime": {
     "end_time": "2024-04-13T21:36:59.515626700Z",
     "start_time": "2024-04-13T21:36:59.476331600Z"
    }
   },
   "id": "47b2f94903375518",
   "execution_count": 54
  },
  {
   "cell_type": "code",
   "outputs": [],
   "source": [
    "# dataset.to_csv(r'data\\dataset.csv')"
   ],
   "metadata": {
    "collapsed": false,
    "ExecuteTime": {
     "end_time": "2024-04-13T21:36:59.582628600Z",
     "start_time": "2024-04-13T21:36:59.513629800Z"
    }
   },
   "id": "603f8134adb15b0f",
   "execution_count": 55
  },
  {
   "cell_type": "markdown",
   "source": [
    "## Outlieres"
   ],
   "metadata": {
    "collapsed": false
   },
   "id": "e009fe4dbb8c4c39"
  },
  {
   "cell_type": "code",
   "outputs": [
    {
     "data": {
      "text/plain": "min        2000.00\nmax     2954083.00\nmean      44553.19\nstd       78710.64\nName: price, dtype: float64"
     },
     "execution_count": 56,
     "metadata": {},
     "output_type": "execute_result"
    }
   ],
   "source": [
    "dataset.price.agg(['min', 'max', 'mean', 'std']).round(decimals=2)"
   ],
   "metadata": {
    "collapsed": false,
    "ExecuteTime": {
     "end_time": "2024-04-13T21:36:59.627151700Z",
     "start_time": "2024-04-13T21:36:59.573631600Z"
    }
   },
   "id": "e8740ac8cd8c7e3e",
   "execution_count": 56
  },
  {
   "cell_type": "code",
   "outputs": [
    {
     "data": {
      "text/plain": "<Figure size 640x480 with 1 Axes>",
      "image/png": "[encoded data removed]"
     },
     "metadata": {},
     "output_type": "display_data"
    }
   ],
   "source": [
    "dataset.price.plot.kde(title='Price')\n",
    "def remove_outliers(df, column, quantile_treshold = .75):\n",
    "    Q3 = df[column].quantile(quantile_treshold)\n",
    "    IQR = Q3 #-0\n",
    "    outlier_step = 1.5 * IQR\n",
    "    upper_bound = Q3 + outlier_step\n",
    "    df = df[(df[column] <= upper_bound)]\n",
    "    return df"
   ],
   "metadata": {
    "collapsed": false,
    "ExecuteTime": {
     "end_time": "2024-04-13T21:37:00.813793100Z",
     "start_time": "2024-04-13T21:36:59.610151Z"
    }
   },
   "id": "ea3a8feb8b226fb1",
   "execution_count": 57
  },
  {
   "cell_type": "code",
   "outputs": [],
   "source": [
    "dataset = remove_outliers(dataset, 'price', 0.7)"
   ],
   "metadata": {
    "collapsed": false,
    "ExecuteTime": {
     "end_time": "2024-04-13T21:37:00.830791Z",
     "start_time": "2024-04-13T21:37:00.816792900Z"
    }
   },
   "id": "b616cabe741d8639",
   "execution_count": 58
  },
  {
   "cell_type": "code",
   "outputs": [
    {
     "data": {
      "text/plain": "<Axes: title={'center': 'Price'}, ylabel='Density'>"
     },
     "execution_count": 59,
     "metadata": {},
     "output_type": "execute_result"
    },
    {
     "data": {
      "text/plain": "<Figure size 640x480 with 1 Axes>",
      "image/png": "[encoded data removed]"
     },
     "metadata": {},
     "output_type": "display_data"
    }
   ],
   "source": [
    "dataset.price.plot.kde(title='Price')"
   ],
   "metadata": {
    "collapsed": false,
    "ExecuteTime": {
     "end_time": "2024-04-13T21:37:01.198550600Z",
     "start_time": "2024-04-13T21:37:00.830791Z"
    }
   },
   "id": "2f0546c738e8c197",
   "execution_count": 59
  },
  {
   "cell_type": "code",
   "outputs": [
    {
     "data": {
      "text/plain": "min       2000.00\nmax     112500.00\nmean     34381.72\nstd      22635.33\nName: price, dtype: float64"
     },
     "execution_count": 60,
     "metadata": {},
     "output_type": "execute_result"
    }
   ],
   "source": [
    "dataset.price.agg(['min', 'max', 'mean', 'std']).round(decimals=2)"
   ],
   "metadata": {
    "collapsed": false,
    "ExecuteTime": {
     "end_time": "2024-04-13T21:37:01.270256700Z",
     "start_time": "2024-04-13T21:37:01.197550900Z"
    }
   },
   "id": "ef40ee5ec6fe5149",
   "execution_count": 60
  },
  {
   "cell_type": "markdown",
   "source": [
    "## MODEL"
   ],
   "metadata": {
    "collapsed": false
   },
   "id": "760fb1dcd35fa52e"
  },
  {
   "cell_type": "code",
   "outputs": [],
   "source": [
    "# label_encoder = LabelEncoder()\n",
    "# \n",
    "# dataset['brand'] = label_encoder.fit_transform(dataset['brand'])\n",
    "# dataset['model'] = label_encoder.fit_transform(dataset['model'])\n",
    "# dataset['fuel_type'] = label_encoder.fit_transform(dataset['fuel_type'])\n",
    "# dataset['engine'] = label_encoder.fit_transform(dataset['engine'])\n",
    "# dataset['transmission'] = label_encoder.fit_transform(dataset['transmission'])\n",
    "# dataset['accident'] = label_encoder.fit_transform(dataset['accident'])\n",
    "# dataset['clean_title'] = label_encoder.fit_transform(dataset['clean_title'])\n",
    "\n",
    "# dataset = pd.get_dummies(dataset, columns=['brand', 'model', 'fuel_type', 'engine', 'transmission', 'accident', 'clean_title'])\n",
    "# dataset = dataset.apply(pd.to_numeric, errors='coerce')"
   ],
   "metadata": {
    "collapsed": false,
    "ExecuteTime": {
     "end_time": "2024-04-13T21:37:01.272169900Z",
     "start_time": "2024-04-13T21:37:01.215248400Z"
    }
   },
   "id": "f5702e6f278b67f1",
   "execution_count": 61
  },
  {
   "cell_type": "code",
   "outputs": [],
   "source": [
    "Target = 'price'\n",
    "Predictors = [col for col in dataset.columns.to_list() if col != Target]\n",
    "x_train, x_test, y_train, y_test = train_test_split(dataset[Predictors], dataset[Target], random_state = 42, test_size = 0.2)"
   ],
   "metadata": {
    "collapsed": false,
    "ExecuteTime": {
     "end_time": "2024-04-11T07:09:41.739420900Z",
     "start_time": "2024-04-11T07:09:41.692167500Z"
    }
   },
   "id": "6ae05777687083af",
   "execution_count": 76
  },
  {
   "cell_type": "code",
   "outputs": [
    {
     "data": {
      "text/plain": "           brand                       model  model_year  milage  \\\n3255         BMW                     i3 Base        2015   26000   \n1570   Chevrolet          Express 1500 Cargo        2004  152000   \n1878    Chrysler                  Sebring LX        2008   67303   \n3027       Lexus                  RX 300 4WD        1999  249083   \n3692  Volkswagen              Passat 2.0T SE        2020   49400   \n...          ...                         ...         ...     ...   \n1203      Rivian          R1S Launch Edition        2023    4500   \n1368        Ford             Maverick Lariat        2022   13700   \n912        Mazda  CX-30 2.5 S Select Package        2022    4004   \n3687        Audi             A4 2.0T Premium        2014   90236   \n3338    Cadillac                  XTS Luxury        2017   69289   \n\n          fuel_type                                             engine  \\\n3255       Gasoline  170.0HP 0.65L Electric Motor Electric Fuel System   \n1570       Gasoline      195.0HP 4.3L V6 Cylinder Engine Gasoline Fuel   \n1878       Gasoline       173.0HP 2.4L 4 Cylinder Engine Gasoline Fuel   \n3027       Gasoline      220.0HP 3.0L V6 Cylinder Engine Gasoline Fuel   \n3692       Gasoline       174.0HP 2.0L 4 Cylinder Engine Gasoline Fuel   \n...             ...                                                ...   \n1203       Gasoline        835.0HP Electric Motor Electric Fuel System   \n1368         Hybrid  191.0HP 2.5L 4 Cylinder Engine Gas/Electric Hy...   \n912        Gasoline       186.0HP 2.5L 4 Cylinder Engine Gasoline Fuel   \n3687  E85 Flex Fuel  220.0HP 2.0L 4 Cylinder Engine Flex Fuel Capab...   \n3338       Gasoline      304.0HP 3.6L V6 Cylinder Engine Gasoline Fuel   \n\n                        transmission  accident clean_title  \n3255                     1-Speed A/T      None         Yes  \n1570                             A/T  Reported         Yes  \n1878                             A/T      None         Yes  \n3027                             A/T  Reported         Yes  \n3692                     6-Speed A/T      None         Yes  \n...                              ...       ...         ...  \n1203                     1-Speed A/T      None         Yes  \n1368                CVT Transmission      None         Yes  \n912                      6-Speed A/T      None         Yes  \n3687  Transmission w/Dual Shift Mode      None         Yes  \n3338                     6-Speed A/T  Reported         Yes  \n\n[3048 rows x 9 columns]",
      "text/html": "<div>\n<style scoped>\n    .dataframe tbody tr th:only-of-type {\n        vertical-align: middle;\n    }\n\n    .dataframe tbody tr th {\n        vertical-align: top;\n    }\n\n    .dataframe thead th {\n        text-align: right;\n    }\n</style>\n<table border=\"1\" class=\"dataframe\">\n  <thead>\n    <tr style=\"text-align: right;\">\n      <th></th>\n      <th>brand</th>\n      <th>model</th>\n      <th>model_year</th>\n      <th>milage</th>\n      <th>fuel_type</th>\n      <th>engine</th>\n      <th>transmission</th>\n      <th>accident</th>\n      <th>clean_title</th>\n    </tr>\n  </thead>\n  <tbody>\n    <tr>\n      <th>3255</th>\n      <td>BMW</td>\n      <td>i3 Base</td>\n      <td>2015</td>\n      <td>26000</td>\n      <td>Gasoline</td>\n      <td>170.0HP 0.65L Electric Motor Electric Fuel System</td>\n      <td>1-Speed A/T</td>\n      <td>None</td>\n      <td>Yes</td>\n    </tr>\n    <tr>\n      <th>1570</th>\n      <td>Chevrolet</td>\n      <td>Express 1500 Cargo</td>\n      <td>2004</td>\n      <td>152000</td>\n      <td>Gasoline</td>\n      <td>195.0HP 4.3L V6 Cylinder Engine Gasoline Fuel</td>\n      <td>A/T</td>\n      <td>Reported</td>\n      <td>Yes</td>\n    </tr>\n    <tr>\n      <th>1878</th>\n      <td>Chrysler</td>\n      <td>Sebring LX</td>\n      <td>2008</td>\n      <td>67303</td>\n      <td>Gasoline</td>\n      <td>173.0HP 2.4L 4 Cylinder Engine Gasoline Fuel</td>\n      <td>A/T</td>\n      <td>None</td>\n      <td>Yes</td>\n    </tr>\n    <tr>\n      <th>3027</th>\n      <td>Lexus</td>\n      <td>RX 300 4WD</td>\n      <td>1999</td>\n      <td>249083</td>\n      <td>Gasoline</td>\n      <td>220.0HP 3.0L V6 Cylinder Engine Gasoline Fuel</td>\n      <td>A/T</td>\n      <td>Reported</td>\n      <td>Yes</td>\n    </tr>\n    <tr>\n      <th>3692</th>\n      <td>Volkswagen</td>\n      <td>Passat 2.0T SE</td>\n      <td>2020</td>\n      <td>49400</td>\n      <td>Gasoline</td>\n      <td>174.0HP 2.0L 4 Cylinder Engine Gasoline Fuel</td>\n      <td>6-Speed A/T</td>\n      <td>None</td>\n      <td>Yes</td>\n    </tr>\n    <tr>\n      <th>...</th>\n      <td>...</td>\n      <td>...</td>\n      <td>...</td>\n      <td>...</td>\n      <td>...</td>\n      <td>...</td>\n      <td>...</td>\n      <td>...</td>\n      <td>...</td>\n    </tr>\n    <tr>\n      <th>1203</th>\n      <td>Rivian</td>\n      <td>R1S Launch Edition</td>\n      <td>2023</td>\n      <td>4500</td>\n      <td>Gasoline</td>\n      <td>835.0HP Electric Motor Electric Fuel System</td>\n      <td>1-Speed A/T</td>\n      <td>None</td>\n      <td>Yes</td>\n    </tr>\n    <tr>\n      <th>1368</th>\n      <td>Ford</td>\n      <td>Maverick Lariat</td>\n      <td>2022</td>\n      <td>13700</td>\n      <td>Hybrid</td>\n      <td>191.0HP 2.5L 4 Cylinder Engine Gas/Electric Hy...</td>\n      <td>CVT Transmission</td>\n      <td>None</td>\n      <td>Yes</td>\n    </tr>\n    <tr>\n      <th>912</th>\n      <td>Mazda</td>\n      <td>CX-30 2.5 S Select Package</td>\n      <td>2022</td>\n      <td>4004</td>\n      <td>Gasoline</td>\n      <td>186.0HP 2.5L 4 Cylinder Engine Gasoline Fuel</td>\n      <td>6-Speed A/T</td>\n      <td>None</td>\n      <td>Yes</td>\n    </tr>\n    <tr>\n      <th>3687</th>\n      <td>Audi</td>\n      <td>A4 2.0T Premium</td>\n      <td>2014</td>\n      <td>90236</td>\n      <td>E85 Flex Fuel</td>\n      <td>220.0HP 2.0L 4 Cylinder Engine Flex Fuel Capab...</td>\n      <td>Transmission w/Dual Shift Mode</td>\n      <td>None</td>\n      <td>Yes</td>\n    </tr>\n    <tr>\n      <th>3338</th>\n      <td>Cadillac</td>\n      <td>XTS Luxury</td>\n      <td>2017</td>\n      <td>69289</td>\n      <td>Gasoline</td>\n      <td>304.0HP 3.6L V6 Cylinder Engine Gasoline Fuel</td>\n      <td>6-Speed A/T</td>\n      <td>Reported</td>\n      <td>Yes</td>\n    </tr>\n  </tbody>\n</table>\n<p>3048 rows × 9 columns</p>\n</div>"
     },
     "execution_count": 77,
     "metadata": {},
     "output_type": "execute_result"
    }
   ],
   "source": [
    "x_train"
   ],
   "metadata": {
    "collapsed": false,
    "ExecuteTime": {
     "end_time": "2024-04-11T07:09:41.763704400Z",
     "start_time": "2024-04-11T07:09:41.715456400Z"
    }
   },
   "id": "442349c05a548f6d",
   "execution_count": 77
  },
  {
   "cell_type": "markdown",
   "source": [],
   "metadata": {
    "collapsed": false
   },
   "id": "6e33a801f1e21b67"
  },
  {
   "cell_type": "markdown",
   "source": [],
   "metadata": {
    "collapsed": false
   },
   "id": "74795929a854165a"
  },
  {
   "cell_type": "markdown",
   "source": [],
   "metadata": {
    "collapsed": false
   },
   "id": "832bc1b235a80721"
  },
  {
   "cell_type": "code",
   "outputs": [
    {
     "name": "stdout",
     "output_type": "stream",
     "text": [
      "Best parameters: {'rf_model__max_depth': 9, 'rf_model__min_samples_leaf': 0.009207815553137093, 'rf_model__min_samples_split': 0.10674536608997195, 'rf_model__n_estimators': 365}\n"
     ]
    }
   ],
   "source": [
    "from sklearn.model_selection import KFold, GridSearchCV\n",
    "from sklearn.ensemble import RandomForestRegressor\n",
    "from pyDOE import lhs\n",
    "\n",
    "# Define the parameter space for Latin Hypercube Sampling\n",
    "n_samples = 7  # Number of samples\n",
    "n_dim = 4  # Number of dimensions (n_estimators and max_depth)\n",
    "\n",
    "# Generate Latin Hypercube Samples\n",
    "lhd = lhs(n_dim, samples=n_samples)\n",
    "\n",
    "# Map the LHS to the parameter space\n",
    "param_space = {\n",
    "    'rf_model__n_estimators': (30, 400),\n",
    "    'rf_model__max_depth': (1, 10),\n",
    "    'rf_model__min_samples_split': (0,1),\n",
    "    'rf_model__min_samples_leaf': (0,0.1)\n",
    "}\n",
    "\n",
    "samples = {}\n",
    "for i, (key, val) in enumerate(param_space.items()):\n",
    "    samples[key] = lhd[:, i] * (val[1] - val[0]) + val[0]\n",
    "\n",
    "# Convert to integers\n",
    "samples['rf_model__n_estimators'] = samples['rf_model__n_estimators'].astype(int)\n",
    "samples['rf_model__max_depth'] = samples['rf_model__max_depth'].astype(int)\n",
    "samples['rf_model__min_samples_split'] = samples['rf_model__min_samples_split'].astype(float)\n",
    "samples['rf_model__min_samples_leaf'] = samples['rf_model__min_samples_leaf'].astype(float)\n",
    "\n",
    "# Create column transformer for one hot encoding\n",
    "ct = ColumnTransformer([(\"cat\", OneHotEncoder(handle_unknown = \"ignore\"),['brand','model','fuel_type','engine','transmission','accident','clean_title'])], remainder=\"passthrough\")\n",
    "\n",
    "# Define the model\n",
    "rf_model = RandomForestRegressor(random_state = 1)\n",
    "\n",
    "# Make pipeline to combine preprocessing and model\n",
    "model = Pipeline([(\"preprocessing\",ct),(\"rf_model\",rf_model)])\n",
    "\n",
    "# Define the grid search with cross-validation\n",
    "# cv = KFold(n_splits=2, shuffle=True, random_state=0)\n",
    "grid_search = GridSearchCV(model, samples, n_jobs=-1, cv=5, scoring='neg_mean_squared_error')\n",
    "\n",
    "# Fit the model\n",
    "grid_search.fit(x_train, y_train)\n",
    "\n",
    "# Print the best parameters\n",
    "print(f\"Best parameters: {grid_search.best_params_}\")\n"
   ],
   "metadata": {
    "collapsed": false,
    "ExecuteTime": {
     "end_time": "2024-04-11T07:42:59.833144600Z",
     "start_time": "2024-04-11T07:09:55.876522700Z"
    }
   },
   "id": "202102e8c55efafe",
   "execution_count": 78
  },
  {
   "cell_type": "markdown",
   "source": [],
   "metadata": {
    "collapsed": false
   },
   "id": "771fce569b2566b8"
  },
  {
   "cell_type": "code",
   "outputs": [],
   "source": [
    "import pickle\n",
    "\n",
    "filename = 'finalized_model.sav'\n",
    "pickle.dump(grid_search, open(filename, 'wb'))"
   ],
   "metadata": {
    "collapsed": false,
    "ExecuteTime": {
     "end_time": "2024-04-11T07:43:40.115481800Z",
     "start_time": "2024-04-11T07:43:40.086186300Z"
    }
   },
   "id": "73a88d9ee4e15ecb",
   "execution_count": 79
  },
  {
   "cell_type": "code",
   "outputs": [
    {
     "name": "stdout",
     "output_type": "stream",
     "text": [
      "0.5004488415122299\n"
     ]
    }
   ],
   "source": [
    "loaded_model = pickle.load(open(filename, 'rb'))\n",
    "best_model = loaded_model.best_estimator_\n",
    "result = best_model.score(x_test, y_test)\n",
    "print(result)"
   ],
   "metadata": {
    "collapsed": false,
    "ExecuteTime": {
     "end_time": "2024-04-11T08:34:12.743508700Z",
     "start_time": "2024-04-11T08:34:12.655352700Z"
    }
   },
   "id": "9b429ac31d73ea6f",
   "execution_count": 130
  },
  {
   "cell_type": "code",
   "outputs": [
    {
     "data": {
      "text/plain": "array([54932.10102673])"
     },
     "execution_count": 131,
     "metadata": {},
     "output_type": "execute_result"
    }
   ],
   "source": [
    "pred_dict = {   \"brand\": \"Toyota\",\n",
    "        \"model\": \"Corolla\",\n",
    "        \"model_year\": 2020,\n",
    "        \"milage\": 15000,\n",
    "        \"fuel_type\": \"Gasoline\",\n",
    "        \"engine\": \"1.8L I4\",\n",
    "        \"transmission\": \"Automatic\",\n",
    "        \"accident\": \"None\",\n",
    "        \"clean_title\": \"Yes\"}\n",
    "pred_df = pd.DataFrame(pred_dict, index=[0])\n",
    "best_model.predict(pred_df)\n",
    "# loaded_model.predict(np.array([\"Toyota\", \"Corolla\", 2020, 15000, \"Gasoline\", \"1.8L I4\", \"Automatic\", \"None\",\"Yes\"]).reshape(1,-1))"
   ],
   "metadata": {
    "collapsed": false,
    "ExecuteTime": {
     "end_time": "2024-04-11T08:34:21.224968600Z",
     "start_time": "2024-04-11T08:34:21.169958600Z"
    }
   },
   "id": "2e1a2335d256a3ad",
   "execution_count": 131
  },
  {
   "cell_type": "code",
   "outputs": [
    {
     "name": "stdout",
     "output_type": "stream",
     "text": [
      "brand                                                  Dodge\n",
      "model                                            Charger R/T\n",
      "model_year                                              2006\n",
      "milage                                                 91300\n",
      "fuel_type                                           Gasoline\n",
      "engine          350.0HP 5.7L 8 Cylinder Engine Gasoline Fuel\n",
      "transmission                                     5-Speed A/T\n",
      "accident                                                None\n",
      "clean_title                                              Yes\n",
      "Name: 2470, dtype: object\n",
      "[array([16103.25393078]), 9200]\n"
     ]
    }
   ],
   "source": [
    "# loaded_model.predict()\n",
    "# new_x_test = x_test.reset_index(drop=True)\n",
    "print(x_test.iloc[268])\n",
    "print([best_model.predict(x_test.iloc[[268]]), y_test.iloc[268]])"
   ],
   "metadata": {
    "collapsed": false,
    "ExecuteTime": {
     "end_time": "2024-04-11T08:34:24.824405Z",
     "start_time": "2024-04-11T08:34:24.768400100Z"
    }
   },
   "id": "34f80eeee35d42e6",
   "execution_count": 132
  },
  {
   "cell_type": "code",
   "outputs": [
    {
     "data": {
      "text/plain": "11668.725577797479"
     },
     "execution_count": 133,
     "metadata": {},
     "output_type": "execute_result"
    }
   ],
   "source": [
    "from sklearn.metrics import mean_absolute_error\n",
    "y_pred = best_model.predict(x_test)\n",
    "mean_absolute_error(y_true=y_test, y_pred=y_pred)"
   ],
   "metadata": {
    "collapsed": false,
    "ExecuteTime": {
     "end_time": "2024-04-11T08:34:29.456481100Z",
     "start_time": "2024-04-11T08:34:29.366962400Z"
    }
   },
   "id": "98553d09d7ee9ff8",
   "execution_count": 133
  },
  {
   "cell_type": "code",
   "outputs": [
    {
     "data": {
      "text/plain": "11251.022842558756"
     },
     "execution_count": 134,
     "metadata": {},
     "output_type": "execute_result"
    }
   ],
   "source": [
    "y_pred_train = best_model.predict(x_train)\n",
    "mean_absolute_error(y_true=y_train, y_pred=y_pred_train)"
   ],
   "metadata": {
    "collapsed": false,
    "ExecuteTime": {
     "end_time": "2024-04-11T08:34:32.218793900Z",
     "start_time": "2024-04-11T08:34:32.074279100Z"
    }
   },
   "id": "133370a7bda156c9",
   "execution_count": 134
  },
  {
   "cell_type": "code",
   "outputs": [],
   "source": [
    "import numpy as np\n",
    "\n",
    "residuals = dataset[Target] - best_model.predict(dataset[Predictors])\n",
    "\n",
    "alpha0 = 0.05\n",
    "alpha1 = 0.15\n",
    "alpha2 = 0.45\n",
    "lower_quantile0 = round(np.percentile(residuals, ((1.0 - alpha0)/2.0) * 100),3)\n",
    "upper_quantile0 = round(np.percentile(residuals, (alpha0 + ((1.0 - alpha0)/2.0)) * 100),3)\n",
    "lower_quantile1 = round(np.percentile(residuals, ((1.0 - alpha1)/2.0) * 100),3)\n",
    "upper_quantile1 = round(np.percentile(residuals, (alpha1 + ((1.0 - alpha1)/2.0)) * 100),3)\n",
    "lower_quantile2 = round(np.percentile(residuals, ((1.0 - alpha2)/2.0) * 100),3)\n",
    "upper_quantile2 = round(np.percentile(residuals, (alpha2 + ((1.0 - alpha2)/2.0)) * 100),3)\n",
    "\n",
    "# print(f'lower: {best_model.predict(x_test.iloc[[268]]) + lower_quantile}, upper: {best_model.predict(x_test.iloc[[268]]) + upper_quantile} true: {y_test.iloc[268]}')"
   ],
   "metadata": {
    "collapsed": false,
    "ExecuteTime": {
     "end_time": "2024-04-11T10:39:28.145385400Z",
     "start_time": "2024-04-11T10:39:27.930232100Z"
    }
   },
   "id": "a2f63bd6e36c294",
   "execution_count": 184
  },
  {
   "cell_type": "code",
   "outputs": [
    {
     "data": {
      "text/plain": "38005"
     },
     "execution_count": 152,
     "metadata": {},
     "output_type": "execute_result"
    }
   ],
   "source": [
    "dataset[Target].values[1]"
   ],
   "metadata": {
    "collapsed": false,
    "ExecuteTime": {
     "end_time": "2024-04-11T09:07:35.576985500Z",
     "start_time": "2024-04-11T09:07:35.551987300Z"
    }
   },
   "id": "b828f5650f737629",
   "execution_count": 152
  },
  {
   "cell_type": "code",
   "outputs": [
    {
     "data": {
      "text/plain": "(-3309.072, -2002.685, -4450.242, -654.887, -8357.948, 5179.976)"
     },
     "execution_count": 191,
     "metadata": {},
     "output_type": "execute_result"
    }
   ],
   "source": [
    "lower_quantile0, upper_quantile0, lower_quantile1, upper_quantile1, lower_quantile2, upper_quantile2"
   ],
   "metadata": {
    "collapsed": false,
    "ExecuteTime": {
     "end_time": "2024-04-11T11:48:30.576328900Z",
     "start_time": "2024-04-11T11:48:30.527245500Z"
    }
   },
   "id": "deabce9758e5be1a",
   "execution_count": 191
  },
  {
   "cell_type": "code",
   "outputs": [
    {
     "name": "stdout",
     "output_type": "stream",
     "text": [
      "Trafność 36.5 %\n",
      "Za mało 28.182 %\n",
      "Za dużo 35.319 %\n"
     ]
    }
   ],
   "source": [
    "c = 0 \n",
    "u = 0\n",
    "l = 0\n",
    "for i in range(len(dataset)):\n",
    "    t = dataset[Target].values[i]\n",
    "    p = round(best_model.predict(dataset[Predictors].reset_index(drop=True).iloc[[i]]).item(),3)\n",
    "    if p < 25_000:\n",
    "        if p < 10_000:\n",
    "            if (t >= min(p,p + lower_quantile0) and t <= max(p,p + upper_quantile0)):\n",
    "                c += 1\n",
    "            elif t > max(p,p + upper_quantile0):\n",
    "                l += 1\n",
    "            elif t < min(p,p + lower_quantile0):\n",
    "                u += 1\n",
    "            # print([p + lower_quantile0, t, p + 2*upper_quantile0])\n",
    "        else:\n",
    "            if (t >= min(p,p + lower_quantile1) and t <= max(p,p + upper_quantile1)):\n",
    "                c += 1\n",
    "            elif t > max(p,p + upper_quantile1):\n",
    "                l += 1\n",
    "            elif t < min(p,p + lower_quantile1):\n",
    "                u += 1\n",
    "            # print([p + lower_quantile1, t, p + 2*upper_quantile1])\n",
    "    else:\n",
    "        if (t >= min(p,p + lower_quantile2) and t <= max(p,p + 2*upper_quantile2)):\n",
    "            c += 1\n",
    "        elif t > max(p,p + 2*upper_quantile2):\n",
    "            l += 1\n",
    "        elif t < min(p,p + lower_quantile2):\n",
    "            u += 1\n",
    "    # print([p + lower_quantile2, t, p + 2*upper_quantile2])\n",
    "a = (c * 100) / (i+1)\n",
    "print('Trafność', round(a, 3), '%')\n",
    "print('Za mało', round((l * 100) / (i+1), 3), '%')\n",
    "print('Za dużo', round((u * 100) / (i+1), 3), '%')"
   ],
   "metadata": {
    "collapsed": false,
    "ExecuteTime": {
     "end_time": "2024-04-11T12:02:50.770327Z",
     "start_time": "2024-04-11T12:01:17.472377Z"
    }
   },
   "id": "a0c9bd8bd63d4214",
   "execution_count": 196
  },
  {
   "cell_type": "code",
   "outputs": [
    {
     "data": {
      "text/plain": "10807.297136877203"
     },
     "execution_count": 181,
     "metadata": {},
     "output_type": "execute_result"
    }
   ],
   "source": [
    "p.item()"
   ],
   "metadata": {
    "collapsed": false,
    "ExecuteTime": {
     "end_time": "2024-04-11T10:38:25.256200900Z",
     "start_time": "2024-04-11T10:38:25.211319600Z"
    }
   },
   "id": "61a38147b9c6798c",
   "execution_count": 181
  },
  {
   "cell_type": "code",
   "outputs": [
    {
     "ename": "NameError",
     "evalue": "name 'X_train' is not defined",
     "output_type": "error",
     "traceback": [
      "\u001B[1;31m---------------------------------------------------------------------------\u001B[0m",
      "\u001B[1;31mNameError\u001B[0m                                 Traceback (most recent call last)",
      "Cell \u001B[1;32mIn[121], line 1\u001B[0m\n\u001B[1;32m----> 1\u001B[0m \u001B[38;5;28;01mdef\u001B[39;00m \u001B[38;5;21mget_conf_int\u001B[39m(alpha, lr, X\u001B[38;5;241m=\u001B[39m\u001B[43mX_train\u001B[49m, y\u001B[38;5;241m=\u001B[39mY_train):\n\u001B[0;32m      3\u001B[0m \u001B[38;5;250m    \u001B[39m\u001B[38;5;124;03m\"\"\"\u001B[39;00m\n\u001B[0;32m      4\u001B[0m \u001B[38;5;124;03m    Returns (1-alpha) 2-sided confidence intervals\u001B[39;00m\n\u001B[0;32m      5\u001B[0m \u001B[38;5;124;03m    for sklearn.LinearRegression coefficients\u001B[39;00m\n\u001B[0;32m      6\u001B[0m \u001B[38;5;124;03m    as a pandas DataFrame\u001B[39;00m\n\u001B[0;32m      7\u001B[0m \u001B[38;5;124;03m    \"\"\"\u001B[39;00m\n\u001B[0;32m      9\u001B[0m     coefs \u001B[38;5;241m=\u001B[39m np\u001B[38;5;241m.\u001B[39mr_[[lr\u001B[38;5;241m.\u001B[39mintercept_], lr\u001B[38;5;241m.\u001B[39mcoef_]\n",
      "\u001B[1;31mNameError\u001B[0m: name 'X_train' is not defined"
     ]
    }
   ],
   "source": [],
   "metadata": {
    "collapsed": false,
    "ExecuteTime": {
     "end_time": "2024-04-11T08:26:29.454653300Z",
     "start_time": "2024-04-11T08:26:29.409652800Z"
    }
   },
   "id": "b256b5ed7faf7855",
   "execution_count": 121
  },
  {
   "cell_type": "code",
   "outputs": [
    {
     "name": "stderr",
     "output_type": "stream",
     "text": [
      "C:\\Users\\Michc\\anaconda3\\envs\\torch1\\lib\\site-packages\\sklearn\\base.py:376: InconsistentVersionWarning: Trying to unpickle estimator OneHotEncoder from version 1.2.2 when using version 1.4.1.post1. This might lead to breaking code or invalid results. Use at your own risk. For more info please refer to:\n",
      "https://scikit-learn.org/stable/model_persistence.html#security-maintainability-limitations\n",
      "  warnings.warn(\n",
      "C:\\Users\\Michc\\anaconda3\\envs\\torch1\\lib\\site-packages\\sklearn\\base.py:376: InconsistentVersionWarning: Trying to unpickle estimator ColumnTransformer from version 1.2.2 when using version 1.4.1.post1. This might lead to breaking code or invalid results. Use at your own risk. For more info please refer to:\n",
      "https://scikit-learn.org/stable/model_persistence.html#security-maintainability-limitations\n",
      "  warnings.warn(\n",
      "C:\\Users\\Michc\\anaconda3\\envs\\torch1\\lib\\site-packages\\sklearn\\base.py:376: InconsistentVersionWarning: Trying to unpickle estimator DecisionTreeRegressor from version 1.2.2 when using version 1.4.1.post1. This might lead to breaking code or invalid results. Use at your own risk. For more info please refer to:\n",
      "https://scikit-learn.org/stable/model_persistence.html#security-maintainability-limitations\n",
      "  warnings.warn(\n",
      "C:\\Users\\Michc\\anaconda3\\envs\\torch1\\lib\\site-packages\\sklearn\\base.py:376: InconsistentVersionWarning: Trying to unpickle estimator RandomForestRegressor from version 1.2.2 when using version 1.4.1.post1. This might lead to breaking code or invalid results. Use at your own risk. For more info please refer to:\n",
      "https://scikit-learn.org/stable/model_persistence.html#security-maintainability-limitations\n",
      "  warnings.warn(\n",
      "C:\\Users\\Michc\\anaconda3\\envs\\torch1\\lib\\site-packages\\sklearn\\base.py:376: InconsistentVersionWarning: Trying to unpickle estimator Pipeline from version 1.2.2 when using version 1.4.1.post1. This might lead to breaking code or invalid results. Use at your own risk. For more info please refer to:\n",
      "https://scikit-learn.org/stable/model_persistence.html#security-maintainability-limitations\n",
      "  warnings.warn(\n",
      "C:\\Users\\Michc\\anaconda3\\envs\\torch1\\lib\\site-packages\\sklearn\\base.py:376: InconsistentVersionWarning: Trying to unpickle estimator FunctionTransformer from version 1.2.2 when using version 1.4.1.post1. This might lead to breaking code or invalid results. Use at your own risk. For more info please refer to:\n",
      "https://scikit-learn.org/stable/model_persistence.html#security-maintainability-limitations\n",
      "  warnings.warn(\n"
     ]
    },
    {
     "ename": "ValueError",
     "evalue": "node array from the pickle has an incompatible dtype:\n- expected: {'names': ['left_child', 'right_child', 'feature', 'threshold', 'impurity', 'n_node_samples', 'weighted_n_node_samples', 'missing_go_to_left'], 'formats': ['<i8', '<i8', '<i8', '<f8', '<f8', '<i8', '<f8', 'u1'], 'offsets': [0, 8, 16, 24, 32, 40, 48, 56], 'itemsize': 64}\n- got     : [('left_child', '<i8'), ('right_child', '<i8'), ('feature', '<i8'), ('threshold', '<f8'), ('impurity', '<f8'), ('n_node_samples', '<i8'), ('weighted_n_node_samples', '<f8')]",
     "output_type": "error",
     "traceback": [
      "\u001B[1;31m---------------------------------------------------------------------------\u001B[0m",
      "\u001B[1;31mValueError\u001B[0m                                Traceback (most recent call last)",
      "Cell \u001B[1;32mIn[51], line 2\u001B[0m\n\u001B[0;32m      1\u001B[0m \u001B[38;5;28;01mimport\u001B[39;00m \u001B[38;5;21;01mpickle\u001B[39;00m\n\u001B[1;32m----> 2\u001B[0m loaded_model2 \u001B[38;5;241m=\u001B[39m \u001B[43mpickle\u001B[49m\u001B[38;5;241;43m.\u001B[39;49m\u001B[43mload\u001B[49m\u001B[43m(\u001B[49m\u001B[38;5;28;43mopen\u001B[39;49m\u001B[43m(\u001B[49m\u001B[38;5;124;43mr\u001B[39;49m\u001B[38;5;124;43m'\u001B[39;49m\u001B[38;5;124;43mmodel.sav\u001B[39;49m\u001B[38;5;124;43m'\u001B[39;49m\u001B[43m,\u001B[49m\u001B[43m \u001B[49m\u001B[38;5;124;43m'\u001B[39;49m\u001B[38;5;124;43mrb\u001B[39;49m\u001B[38;5;124;43m'\u001B[39;49m\u001B[43m)\u001B[49m\u001B[43m)\u001B[49m\n\u001B[0;32m      3\u001B[0m loaded_model2\u001B[38;5;241m.\u001B[39mpredict(\n\u001B[0;32m      4\u001B[0m     {   \u001B[38;5;124m\"\u001B[39m\u001B[38;5;124mbrand\u001B[39m\u001B[38;5;124m\"\u001B[39m: \u001B[38;5;124m\"\u001B[39m\u001B[38;5;124mToyota\u001B[39m\u001B[38;5;124m\"\u001B[39m,\n\u001B[0;32m      5\u001B[0m         \u001B[38;5;124m\"\u001B[39m\u001B[38;5;124mmodel\u001B[39m\u001B[38;5;124m\"\u001B[39m: \u001B[38;5;124m\"\u001B[39m\u001B[38;5;124mCorolla\u001B[39m\u001B[38;5;124m\"\u001B[39m,\n\u001B[1;32m   (...)\u001B[0m\n\u001B[0;32m     11\u001B[0m         \u001B[38;5;124m\"\u001B[39m\u001B[38;5;124maccident\u001B[39m\u001B[38;5;124m\"\u001B[39m: \u001B[38;5;124m\"\u001B[39m\u001B[38;5;124mNone\u001B[39m\u001B[38;5;124m\"\u001B[39m,\n\u001B[0;32m     12\u001B[0m         \u001B[38;5;124m\"\u001B[39m\u001B[38;5;124mclean_title\u001B[39m\u001B[38;5;124m\"\u001B[39m: \u001B[38;5;124m\"\u001B[39m\u001B[38;5;124mYes\u001B[39m\u001B[38;5;124m\"\u001B[39m})\n",
      "File \u001B[1;32msklearn\\\\tree\\\\_tree.pyx:865\u001B[0m, in \u001B[0;36msklearn.tree._tree.Tree.__setstate__\u001B[1;34m()\u001B[0m\n",
      "File \u001B[1;32msklearn\\\\tree\\\\_tree.pyx:1571\u001B[0m, in \u001B[0;36msklearn.tree._tree._check_node_ndarray\u001B[1;34m()\u001B[0m\n",
      "\u001B[1;31mValueError\u001B[0m: node array from the pickle has an incompatible dtype:\n- expected: {'names': ['left_child', 'right_child', 'feature', 'threshold', 'impurity', 'n_node_samples', 'weighted_n_node_samples', 'missing_go_to_left'], 'formats': ['<i8', '<i8', '<i8', '<f8', '<f8', '<i8', '<f8', 'u1'], 'offsets': [0, 8, 16, 24, 32, 40, 48, 56], 'itemsize': 64}\n- got     : [('left_child', '<i8'), ('right_child', '<i8'), ('feature', '<i8'), ('threshold', '<f8'), ('impurity', '<f8'), ('n_node_samples', '<i8'), ('weighted_n_node_samples', '<f8')]"
     ]
    }
   ],
   "source": [
    "import pickle\n",
    "loaded_model2 = pickle.load(open(r'model.sav', 'rb'))\n",
    "loaded_model2.predict(\n",
    "    {   \"brand\": \"Toyota\",\n",
    "        \"model\": \"Corolla\",\n",
    "        \"model_year\": 2020,\n",
    "        \"mileage\": 15000,\n",
    "        \"fuel_type\": \"Gasoline\",\n",
    "        \"engine\": \"1.8L I4\",\n",
    "        \"transmission\": \"Automatic\",\n",
    "        \"accident\": \"None\",\n",
    "        \"clean_title\": \"Yes\"})"
   ],
   "metadata": {
    "collapsed": false,
    "ExecuteTime": {
     "end_time": "2024-04-10T12:39:40.394766700Z",
     "start_time": "2024-04-10T12:39:40.349209400Z"
    }
   },
   "id": "4da9b0593da38717",
   "execution_count": 51
  },
  {
   "cell_type": "code",
   "outputs": [],
   "source": [
    "import pickle\n",
    "from sklearn.ensemble import RandomForestRegressor\n",
    "from sklearn.pipeline import Pipeline\n",
    "from sklearn.compose import ColumnTransformer\n",
    "from sklearn.preprocessing import OneHotEncoder\n",
    "import pandas as pd\n",
    "\n",
    "class Model():\n",
    "    def __init__(self):\n",
    "        self.model = pickle.load(open('finalized_model.sav', 'rb'))\n",
    "        self.new_model = None\n",
    "\n",
    "    def fit_model(self, new_data: pd.DataFrame):\n",
    "        if new_data is not None:\n",
    "            self.new_model = pickle.load(open('finalized_model.sav', 'rb'))\n",
    "            new_data.columns = new_data.columns.lower()\n",
    "            Target = 'price'\n",
    "            Predictors = ['brand', 'model', 'model_year', 'milage', 'fuel_type', 'engine', 'transmission', 'accident', 'clean_title']\n",
    "            self.new_model.fit(new_data[Predictors], new_data[Target])\n",
    "\n",
    "    def predict(self, observation: dict, og_mode: bool):\n",
    "        lower_quantile0, upper_quantile0, lower_quantile1, upper_quantile1, lower_quantile2, upper_quantile2 = [-3309.072, -2002.685, -4450.242, -654.887, -8357.948, 5179.976]\n",
    "        if observation is None:\n",
    "            return 0, 0\n",
    "        pred_df = pd.DataFrame(observation, index=[0])\n",
    "        if og_mode:\n",
    "            # p = round(self.model.predict(pred_df.reset_index(drop=True)), 3)\n",
    "            p = self.model.predict(pred_df.reset_index(drop=True))\n",
    "        else:\n",
    "            if self.new_model is not None:\n",
    "                p = self.new_model.predict(pred_df.reset_index(drop=True))\n",
    "            else:\n",
    "                return 0, 0\n",
    "        if p < 25_000:\n",
    "            if p < 10_000:\n",
    "                lower = min(p, p + lower_quantile0)\n",
    "                upper = max(p, p + upper_quantile0)\n",
    "            else:\n",
    "                lower = min(p, p + lower_quantile1)\n",
    "                upper = max(p, p + upper_quantile1)\n",
    "        else:\n",
    "            lower = min(p, p + lower_quantile2)\n",
    "            upper = max(p, p + 2 * upper_quantile2)\n",
    "        return lower[0], upper[0]"
   ],
   "metadata": {
    "collapsed": false,
    "ExecuteTime": {
     "end_time": "2024-04-13T21:06:57.380373500Z",
     "start_time": "2024-04-13T21:06:57.350394900Z"
    }
   },
   "id": "9b401e2dc9136607",
   "execution_count": 34
  },
  {
   "cell_type": "code",
   "outputs": [],
   "source": [
    "model = Model()"
   ],
   "metadata": {
    "collapsed": false,
    "ExecuteTime": {
     "end_time": "2024-04-13T21:06:59.320720300Z",
     "start_time": "2024-04-13T21:06:59.286722800Z"
    }
   },
   "id": "30bf83b4b0fc92fe",
   "execution_count": 35
  },
  {
   "cell_type": "code",
   "outputs": [],
   "source": [
    "car = {\n",
    "  \"brand\": \"Toyota\",\n",
    "                \"model\": \"Corolla\",\n",
    "                \"model_year\": 2020,\n",
    "                \"milage\": 15000,\n",
    "                \"fuel_type\": \"Gasoline\",\n",
    "                \"engine\": \"1.8L I4\",\n",
    "                \"transmission\": \"Automatic\",\n",
    "                \"accident\": \"No\",\n",
    "                \"clean_title\": \"Yes\"\n",
    "}"
   ],
   "metadata": {
    "collapsed": false,
    "ExecuteTime": {
     "end_time": "2024-04-13T20:57:20.020676500Z",
     "start_time": "2024-04-13T20:57:19.977669Z"
    }
   },
   "id": "b68b796a2a2e98f7",
   "execution_count": 5
  },
  {
   "cell_type": "code",
   "outputs": [],
   "source": [
    "lower, upper = model.predict(car, True)\n",
    "# lower = lower[0]"
   ],
   "metadata": {
    "collapsed": false,
    "ExecuteTime": {
     "end_time": "2024-04-13T21:07:02.497103500Z",
     "start_time": "2024-04-13T21:07:02.449101300Z"
    }
   },
   "id": "e17d9f0447c7618d",
   "execution_count": 36
  },
  {
   "cell_type": "code",
   "outputs": [
    {
     "data": {
      "text/plain": "(46574.15302672991, 65292.053026729904)"
     },
     "execution_count": 37,
     "metadata": {},
     "output_type": "execute_result"
    }
   ],
   "source": [
    "lower, upper"
   ],
   "metadata": {
    "collapsed": false,
    "ExecuteTime": {
     "end_time": "2024-04-13T21:07:03.913467400Z",
     "start_time": "2024-04-13T21:07:03.883449200Z"
    }
   },
   "id": "b28b9d0e5814b7e4",
   "execution_count": 37
  },
  {
   "cell_type": "code",
   "outputs": [
    {
     "data": {
      "text/plain": "Index(['brand', 'model', 'model_year', 'milage', 'fuel_type', 'engine',\n       'transmission', 'accident', 'clean_title', 'price'],\n      dtype='object')"
     },
     "execution_count": 67,
     "metadata": {},
     "output_type": "execute_result"
    }
   ],
   "source": [
    "dataset.columns.str.lower()"
   ],
   "metadata": {
    "collapsed": false,
    "ExecuteTime": {
     "end_time": "2024-04-13T21:38:49.468856200Z",
     "start_time": "2024-04-13T21:38:49.430857500Z"
    }
   },
   "id": "1ecb5617b811cd28",
   "execution_count": 67
  }
 ],
 "metadata": {
  "kernelspec": {
   "display_name": "Python 3",
   "language": "python",
   "name": "python3"
  },
  "language_info": {
   "codemirror_mode": {
    "name": "ipython",
    "version": 2
   },
   "file_extension": ".py",
   "mimetype": "text/x-python",
   "name": "python",
   "nbconvert_exporter": "python",
   "pygments_lexer": "ipython2",
   "version": "2.7.6"
  }
 },
 "nbformat": 4,
 "nbformat_minor": 5
}
